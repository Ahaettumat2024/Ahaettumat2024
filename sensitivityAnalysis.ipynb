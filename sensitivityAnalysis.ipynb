{
 "cells": [
  {
   "cell_type": "code",
   "execution_count": null,
   "metadata": {},
   "outputs": [],
   "source": [
    "import pandas as pd\n",
    "import numpy as np\n",
    "from utils.stofn import *\n",
    "from utils.eldi import *\n",
    "from utils.dreifing import *\n",
    "from utils.gogn import *\n",
    "import random"
   ]
  },
  {
   "cell_type": "code",
   "execution_count": null,
   "metadata": {},
   "outputs": [],
   "source": [
    "data = {}\n",
    "data['rivers'] = getRivers()\n",
    "data['eldi'] =  getFarms()\n",
    "data['distances'] = getDistances()"
   ]
  },
  {
   "cell_type": "code",
   "execution_count": null,
   "metadata": {},
   "outputs": [],
   "source": [
    "ITERS = 1000\n",
    "\n",
    "EVENTS_PER_YEAR = 1.75 # Average number of escape events per year\n",
    "SIZE_PROPORTION = 0.67 # Proportion of Early vs Late escapees\n",
    "ESCAPES_PER_TON = 0.5 # Amount of escapees per 1000 ton\n",
    "\n",
    "LATE_RETURNS_PROP = 0.0016 # Proportion of Late escapees that return to rivers (0.16%)\n",
    "EARLY_RETURNS_PROP = 0.0007 # Proportion of Early escapees that return to rivers (0.07%)\n",
    "EARLY_YEARLY_DISTR = [0, 30/56, 17/56, 9/56] # Early returns distributed over four years\n",
    "\n",
    "LATE_PROPORTION = 0.2\n",
    "LATE_LENGTH = 240\n",
    "\n",
    "EARLY_PROPORTION = 0.5\n",
    "EARLY_LENGTH = 140"
   ]
  },
  {
   "cell_type": "code",
   "execution_count": null,
   "metadata": {},
   "outputs": [],
   "source": [
    "def runSimulation(ITERS = ITERS, \\\n",
    "            LATE_PROPORTION = LATE_PROPORTION,\\\n",
    "            EARLY_PROPORTION = EARLY_PROPORTION,\\\n",
    "            LATE_LENGTH = LATE_LENGTH, \\\n",
    "            EARLY_LENGTH = EARLY_LENGTH, \\\n",
    "            EVENTS_PER_YEAR = EVENTS_PER_YEAR, \\\n",
    "            ESCAPES_PER_TON = ESCAPES_PER_TON, \\\n",
    "            SIZE_PROPORTION = SIZE_PROPORTION, \\\n",
    "            LATE_RETURNS_PROP = LATE_RETURNS_PROP, \\\n",
    "            EARLY_RETURNS_PROP = EARLY_RETURNS_PROP, \\\n",
    "            EARLY_YEARLY_DISTR = EARLY_YEARLY_DISTR):\n",
    "        stofnar = stofnstaerdir(data,ITERS)\n",
    "        escSchedule = calcEscapeEvents(data,ITERS, EVENTS_PER_YEAR)\n",
    "        farmEvents = splitEvents(data, escSchedule, ITERS)\n",
    "        farmEventsEarly, farmEventsLate = splitFarmEvents(data, farmEvents,ITERS,SIZE_PROPORTION)\n",
    "        farmNumbersEarly, farmNumbersLate = getSizeOfEvents(data,farmEventsEarly, farmEventsLate, ESCAPES_PER_TON, EVENTS_PER_YEAR)\n",
    "        farmEarlyReturns, farmLateReturns = getNumberOfReturners(data, farmNumbersEarly, farmNumbersLate, ITERS, LATE_RETURNS_PROP, EARLY_RETURNS_PROP, EARLY_YEARLY_DISTR)\n",
    "        results = getResults(data, stofnar, farmEarlyReturns, farmLateReturns, ITERS,LATE_PROPORTION,EARLY_PROPORTION,LATE_LENGTH,EARLY_LENGTH )\n",
    "        return results\n",
    "    "
   ]
  },
  {
   "cell_type": "code",
   "execution_count": null,
   "metadata": {},
   "outputs": [],
   "source": [
    "avg = pd.DataFrame([])\n",
    "count4 = pd.DataFrame([])\n",
    "count4over3 = pd.DataFrame([])\n",
    "\n",
    "start = 180 # fyrsta gildi til að prófa\n",
    "stop =  280 # síðasta gildi til að prófa\n",
    "num = 10    # fjöldi gilda til að prófa\n",
    "values = np.linspace(start,stop,num)\n",
    "for val in values:\n",
    "    print(val)\n",
    "    results = runSimulation(LATE_LENGTH = val) ## Parameter to change\n",
    "    avg[val] = results.mean(axis=0)\n",
    "    count4[val] = ((results>4)*1).mean(axis=0)*100\n",
    "    count4over3 = ((results>4).rolling(3).mean()>4).mean(axis=0)*100\n",
    "\n"
   ]
  },
  {
   "cell_type": "code",
   "execution_count": null,
   "metadata": {},
   "outputs": [],
   "source": [
    "avg.to_csv('data/sensAnalysis/Late_lengthavg.csv')  "
   ]
  },
  {
   "cell_type": "code",
   "execution_count": null,
   "metadata": {},
   "outputs": [],
   "source": [
    "count4.to_csv('data/sensAnalysis/Late_lengtho4.csv') "
   ]
  },
  {
   "cell_type": "code",
   "execution_count": null,
   "metadata": {},
   "outputs": [],
   "source": [
    "count4over3.to_csv('data/sensAnalysis/Late_length4o3.csv') "
   ]
  }
 ],
 "metadata": {
  "kernelspec": {
   "display_name": "Python 3",
   "language": "python",
   "name": "python3"
  },
  "language_info": {
   "codemirror_mode": {
    "name": "ipython",
    "version": 3
   },
   "file_extension": ".py",
   "mimetype": "text/x-python",
   "name": "python",
   "nbconvert_exporter": "python",
   "pygments_lexer": "ipython3",
   "version": "3.10.8"
  }
 },
 "nbformat": 4,
 "nbformat_minor": 2
}
