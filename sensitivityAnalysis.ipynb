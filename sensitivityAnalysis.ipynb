{
 "cells": [
  {
   "cell_type": "code",
   "execution_count": null,
   "metadata": {},
   "outputs": [],
   "source": [
    "import pandas as pd\n",
    "import numpy as np\n",
    "from utils.stofn import *\n",
    "from utils.eldi import *\n",
    "from utils.dreifing import *\n",
    "from utils.gogn import *\n",
    "import random"
   ]
  },
  {
   "cell_type": "code",
   "execution_count": null,
   "metadata": {},
   "outputs": [],
   "source": [
    "data = {}\n",
    "data['rivers'] = getRivers()\n",
    "data['eldi'] =  getFarms()\n",
    "data['distances'] = getDistances()"
   ]
  },
  {
   "cell_type": "code",
   "execution_count": null,
   "metadata": {},
   "outputs": [],
   "source": [
    "ITERS = 10\n",
    "\n",
    "\n",
    "SAFN_VESTUR_SIZE = 0\n",
    "SAFN_AUSTUR_SIZE = 0\n",
    "\n",
    "# EVENTS_PER_YEAR = 1.75 # Average number of escape events per year ## gamla\n",
    "A = 0.029\n",
    "B = 0.912\n",
    "EVENTS_PER_YEAR = A*np.sum(data['eldi']['Stock'].to_numpy())**B\n",
    "SIZE_PROPORTION = 0.67 # Proportion of Early vs Late escapees\n",
    "ESCAPES_PER_TON = 0.5 # Amount of escapees per 1000 ton\n",
    "\n",
    "LATE_RETURNS_PROP = 0.0016 # Proportion of Late escapees that return to rivers (0.16%)\n",
    "EARLY_RETURNS_PROP = 0.0007 # Proportion of Early escapees that return to rivers (0.07%)\n",
    "EARLY_YEARLY_DISTR = [0, 30/56, 17/56, 9/56] # Early returns distributed over four years\n",
    "\n",
    "LATE_PROPORTION = 0.2\n",
    "LATE_LENGTH = 240\n",
    "\n",
    "EARLY_PROPORTION = 0.5\n",
    "EARLY_LENGTH = 140"
   ]
  },
  {
   "cell_type": "code",
   "execution_count": null,
   "metadata": {},
   "outputs": [],
   "source": [
    "# Fyrir sensitivity analysis\n",
    "def runSimulation(ITERS = ITERS, \\\n",
    "            SAFN_VESTUR_SIZE = SAFN_VESTUR_SIZE, \\\n",
    "            SAFN_AUSTUR_SIZE = SAFN_AUSTUR_SIZE, \\\n",
    "            LATE_PROPORTION = LATE_PROPORTION,\\\n",
    "            EARLY_PROPORTION = EARLY_PROPORTION,\\\n",
    "            LATE_LENGTH = LATE_LENGTH, \\\n",
    "            EARLY_LENGTH = EARLY_LENGTH, \\\n",
    "            EVENTS_PER_YEAR = EVENTS_PER_YEAR, \\\n",
    "            ESCAPES_PER_TON = ESCAPES_PER_TON, \\\n",
    "            SIZE_PROPORTION = SIZE_PROPORTION, \\\n",
    "            LATE_RETURNS_PROP = LATE_RETURNS_PROP, \\\n",
    "            EARLY_RETURNS_PROP = EARLY_RETURNS_PROP, \\\n",
    "            EARLY_YEARLY_DISTR = EARLY_YEARLY_DISTR):\n",
    "        if SAFN_VESTUR_SIZE > 1:\n",
    "            data['rivers'].loc[data['rivers']['nafn']=='Safn Vestur','logMedal10']= np.log(SAFN_VESTUR_SIZE)\n",
    "            data['rivers'].loc[data['rivers']['nafn']=='Safn Vestur','expMedal10']= SAFN_VESTUR_SIZE\n",
    "        if SAFN_AUSTUR_SIZE > 1:\n",
    "            data['rivers'].loc[data['rivers']['nafn']=='Safn Austur','logMedal10'] = np.log(SAFN_AUSTUR_SIZE)\n",
    "            data['rivers'].loc[data['rivers']['nafn']=='Safn Austur','expMedal10'] = SAFN_AUSTUR_SIZE\n",
    "        stofnar = stofnstaerdir(data,ITERS)\n",
    "        escSchedule = calcEscapeEvents(data,ITERS, EVENTS_PER_YEAR)\n",
    "        farmEvents = splitEvents(data, escSchedule, ITERS)\n",
    "        farmEventsEarly, farmEventsLate = splitFarmEvents(data, farmEvents,ITERS,SIZE_PROPORTION)\n",
    "        farmNumbersEarly, farmNumbersLate = getSizeOfEvents(data,farmEventsEarly, farmEventsLate, ESCAPES_PER_TON, EVENTS_PER_YEAR)\n",
    "        farmEarlyReturns, farmLateReturns = getNumberOfReturners(data, farmNumbersEarly, farmNumbersLate, ITERS, LATE_RETURNS_PROP, EARLY_RETURNS_PROP, EARLY_YEARLY_DISTR)\n",
    "        results = getResults(data, stofnar, farmEarlyReturns, farmLateReturns, ITERS,LATE_PROPORTION,EARLY_PROPORTION,LATE_LENGTH,EARLY_LENGTH )\n",
    "\n",
    "        results[0].drop(columns=['Safn Austur','Safn Vestur'],inplace=True)\n",
    "        results[1].drop(columns=['Safn Austur','Safn Vestur'],inplace=True)\n",
    "        return results\n",
    "    "
   ]
  },
  {
   "cell_type": "code",
   "execution_count": null,
   "metadata": {},
   "outputs": [],
   "source": [
    "# Keyrir sensitivity analysis\n",
    "avg = pd.DataFrame([])\n",
    "count4 = pd.DataFrame([])\n",
    "count4over3 = pd.DataFrame([])\n",
    "\n",
    "start = 180 # fyrsta gildi til að prófa\n",
    "stop =  280 # síðasta gildi til að prófa\n",
    "num = 10    # fjöldi gilda til að prófa\n",
    "values = np.linspace(start,stop,num)\n",
    "for val in values:\n",
    "    print(val)\n",
    "    results = runSimulation(LATE_LENGTH = val) ## Parameter to change\n",
    "    avg[val] = results[0].mean(axis=0)\n",
    "    count4[val] = ((results[0]>4)*1).mean(axis=0)*100\n",
    "    count4over3 = ((results[1]>4)*1).mean(axis=0)*100\n",
    "\n"
   ]
  },
  {
   "cell_type": "code",
   "execution_count": null,
   "metadata": {},
   "outputs": [],
   "source": [
    "# Vistar sensitivity analysis\n",
    "avg.to_csv('data/sensAnalysis/Late_lengthavg.csv')  \n",
    "count4.to_csv('data/sensAnalysis/Late_lengtho4.csv') \n",
    "count4over3.to_csv('data/sensAnalysis/Late_length4o3.csv') "
   ]
  },
  {
   "cell_type": "code",
   "execution_count": null,
   "metadata": {},
   "outputs": [],
   "source": [
    "# Til að fá áfrif hvers eldisstaðar á niðurstöður\n",
    "def runSimulation2():\n",
    "        if SAFN_VESTUR_SIZE > 1:\n",
    "            data['rivers'].loc[data['rivers']['nafn']=='Safn Vestur','logMedal10']= np.log(SAFN_VESTUR_SIZE)\n",
    "            data['rivers'].loc[data['rivers']['nafn']=='Safn Vestur','expMedal10']= SAFN_VESTUR_SIZE\n",
    "        if SAFN_AUSTUR_SIZE > 1:\n",
    "            data['rivers'].loc[data['rivers']['nafn']=='Safn Austur','logMedal10'] = np.log(SAFN_AUSTUR_SIZE)\n",
    "            data['rivers'].loc[data['rivers']['nafn']=='Safn Austur','expMedal10'] = SAFN_AUSTUR_SIZE\n",
    "        stofnar = stofnstaerdir(data,ITERS)\n",
    "        escSchedule = calcEscapeEvents(data,ITERS, EVENTS_PER_YEAR)\n",
    "        farmEvents = splitEvents(data, escSchedule, ITERS)\n",
    "        farmEventsEarly, farmEventsLate = splitFarmEvents(data, farmEvents,ITERS,SIZE_PROPORTION)\n",
    "        farmNumbersEarly, farmNumbersLate = getSizeOfEvents(data,farmEventsEarly, farmEventsLate, ESCAPES_PER_TON, EVENTS_PER_YEAR)\n",
    "        farmEarlyReturns, farmLateReturns = getNumberOfReturners(data, farmNumbersEarly, farmNumbersLate, ITERS, LATE_RETURNS_PROP, EARLY_RETURNS_PROP, EARLY_YEARLY_DISTR)\n",
    "        results = getSplitResults(data, stofnar, farmEarlyReturns, farmLateReturns, ITERS,LATE_PROPORTION,EARLY_PROPORTION,LATE_LENGTH,EARLY_LENGTH)\n",
    "\n",
    "        return results"
   ]
  },
  {
   "cell_type": "code",
   "execution_count": null,
   "metadata": {},
   "outputs": [],
   "source": [
    "skipting = runSimulation2()\n",
    "print(skipting)\n",
    "print('Hlutfall í safnár: ', (skipting.loc['Safn Austur'].sum()+skipting.loc['Safn Vestur'].sum())/skipting.sum().sum())\n"
   ]
  },
  {
   "cell_type": "code",
   "execution_count": null,
   "metadata": {},
   "outputs": [],
   "source": [
    "ITERS = 1000\n",
    "\n",
    "SAFN_VESTUR_SIZE = 0\n",
    "SAFN_AUSTUR_SIZE = 0\n",
    "\n",
    "# EVENTS_PER_YEAR = 1.75 # Average number of escape events per year ## gamla\n",
    "A = 0.029\n",
    "B = 0.912\n",
    "EVENTS_PER_YEAR = A*np.sum(data['eldi']['Stock'].to_numpy())**B\n",
    "SIZE_PROPORTION = 0.67 # Proportion of Early vs Late escapees\n",
    "ESCAPES_PER_TON = 0.5 # Amount of escapees per 1000 ton\n",
    "\n",
    "LATE_RETURNS_PROP = 0.0016 # Proportion of Late escapees that return to rivers (0.16%)\n",
    "EARLY_RETURNS_PROP = 0.0007 # Proportion of Early escapees that return to rivers (0.07%)\n",
    "EARLY_YEARLY_DISTR = [0, 30/56, 17/56, 9/56] # Early returns distributed over four years\n",
    "\n",
    "LATE_PROPORTION = 0.2\n",
    "LATE_LENGTH = 240\n",
    "\n",
    "EARLY_PROPORTION = 0.5\n",
    "EARLY_LENGTH = 140"
   ]
  },
  {
   "cell_type": "code",
   "execution_count": null,
   "metadata": {},
   "outputs": [],
   "source": [
    "## Til að fá uþb meðaltalsniðurstöðu án simulation\n",
    "ahrif = [np.array(0)]*12\n",
    "\n",
    "dataCopy = data.copy()\n",
    "if SAFN_VESTUR_SIZE > 1:\n",
    "    dataCopy['rivers'].loc[dataCopy['rivers']['nafn']=='Safn Vestur','logMedal10']= np.log(SAFN_VESTUR_SIZE)\n",
    "    dataCopy['rivers'].loc[dataCopy['rivers']['nafn']=='Safn Vestur','expMedal10']= SAFN_VESTUR_SIZE\n",
    "if SAFN_AUSTUR_SIZE > 1:\n",
    "    dataCopy['rivers'].loc[dataCopy['rivers']['nafn']=='Safn Austur','logMedal10'] = np.log(SAFN_AUSTUR_SIZE)\n",
    "    dataCopy['rivers'].loc[dataCopy['rivers']['nafn']=='Safn Austur','expMedal10'] = SAFN_AUSTUR_SIZE\n",
    "for farmNo in range(12):\n",
    "    ahrif[farmNo] = ((1-SIZE_PROPORTION)*getLateFarmedDistribution(data,farmNo,LATE_PROPORTION,LATE_LENGTH)/dataCopy['rivers']['expMedal10']).values\n",
    "    ahrif[farmNo] += ((SIZE_PROPORTION)*getEarlyFarmedDistribution(data,farmNo,EARLY_PROPORTION,EARLY_LENGTH)/dataCopy['rivers']['expMedal10']).values\n",
    "\n",
    "\n",
    "def costFunction1(eldismagn):\n",
    "        dataCopy = data.copy()\n",
    "        dataCopy['eldi']['Stock'] = eldismagn\n",
    "        if SAFN_VESTUR_SIZE > 1:\n",
    "            dataCopy['rivers'].loc[dataCopy['rivers']['nafn']=='Safn Vestur','logMedal10']= np.log(SAFN_VESTUR_SIZE)\n",
    "            dataCopy['rivers'].loc[dataCopy['rivers']['nafn']=='Safn Vestur','expMedal10']= SAFN_VESTUR_SIZE\n",
    "        if SAFN_AUSTUR_SIZE > 1:\n",
    "            dataCopy['rivers'].loc[dataCopy['rivers']['nafn']=='Safn Austur','logMedal10'] = np.log(SAFN_AUSTUR_SIZE)\n",
    "            dataCopy['rivers'].loc[dataCopy['rivers']['nafn']=='Safn Austur','expMedal10'] = SAFN_AUSTUR_SIZE\n",
    "        distribution =pd.DataFrame(0, index=[0], columns=dataCopy['rivers']['nafn'])\n",
    "        for farmNo in range(12):\n",
    "            distribution += eldismagn[farmNo]*ahrif[farmNo]\n",
    "        distribution.drop(columns=['Safn Austur','Safn Vestur'],inplace=True)\n",
    "\n",
    "        return distribution.max(axis = 1).values"
   ]
  },
  {
   "cell_type": "code",
   "execution_count": null,
   "metadata": {},
   "outputs": [],
   "source": [
    "# Til að fá niðurstöður fyrir mismunandi eldismagn\n",
    "def costFunction2(eldismagn):\n",
    "        dataCopy = data.copy()\n",
    "        dataCopy['eldi']['Stock'] = eldismagn\n",
    "        if SAFN_VESTUR_SIZE > 1:\n",
    "            data['rivers'].loc[data['rivers']['nafn']=='Safn Vestur','logMedal10']= np.log(SAFN_VESTUR_SIZE)\n",
    "            data['rivers'].loc[data['rivers']['nafn']=='Safn Vestur','expMedal10']= SAFN_VESTUR_SIZE\n",
    "        if SAFN_AUSTUR_SIZE > 1:\n",
    "            data['rivers'].loc[data['rivers']['nafn']=='Safn Austur','logMedal10'] = np.log(SAFN_AUSTUR_SIZE)\n",
    "            data['rivers'].loc[data['rivers']['nafn']=='Safn Austur','expMedal10'] = SAFN_AUSTUR_SIZE\n",
    "        stofnar = stofnstaerdir(data,ITERS)\n",
    "        EVENTS_PER_YEAR = A*np.sum(dataCopy['eldi']['Stock'].to_numpy())**B\n",
    "        escSchedule = calcEscapeEvents(data,ITERS, EVENTS_PER_YEAR)\n",
    "        farmEvents = splitEvents(data, escSchedule, ITERS)\n",
    "        farmEventsEarly, farmEventsLate = splitFarmEvents(data, farmEvents,ITERS,SIZE_PROPORTION)\n",
    "        farmNumbersEarly, farmNumbersLate = getSizeOfEvents(data,farmEventsEarly, farmEventsLate, ESCAPES_PER_TON, EVENTS_PER_YEAR)\n",
    "        farmEarlyReturns, farmLateReturns = getNumberOfReturners(data, farmNumbersEarly, farmNumbersLate, ITERS, LATE_RETURNS_PROP, EARLY_RETURNS_PROP, EARLY_YEARLY_DISTR)\n",
    "        results = getResults(data, stofnar, farmEarlyReturns, farmLateReturns, ITERS,LATE_PROPORTION,EARLY_PROPORTION,LATE_LENGTH,EARLY_LENGTH)\n",
    "        results[0].drop(columns=['Safn Austur','Safn Vestur'],inplace=True)\n",
    "        results[1].drop(columns=['Safn Austur','Safn Vestur'],inplace=True)\n",
    "        return (((results[1]>4)*1).mean(axis=0)*100).max()"
   ]
  },
  {
   "cell_type": "code",
   "execution_count": null,
   "metadata": {},
   "outputs": [],
   "source": [
    "## uþb Besta röðun\n",
    "\n",
    "magn = np.array([0.0]*12)\n",
    "diff = True\n",
    "mins = [[0.0]]*300\n",
    "magns = np.array([np.array([0.0]*12)]*int(144.5*2))\n",
    "\n",
    "j = 0\n",
    "while magn.sum()<144.5:\n",
    "    min = 10000\n",
    "    idx = 0\n",
    "    for i in range(12):\n",
    "        if magn[i] >= data['eldi']['max'][i]:\n",
    "            continue\n",
    "        magn[i] += 0.5\n",
    "        res = costFunction1(magn)\n",
    "        if res < min:\n",
    "            idx = i\n",
    "            min = res\n",
    "            diff = True\n",
    "        magn[i] -= 0.5\n",
    "    magn[idx] =  magn[idx]+0.5\n",
    "    mins[j] = min\n",
    "    magns[j] = magn\n",
    "    j += 1\n",
    "    "
   ]
  },
  {
   "cell_type": "code",
   "execution_count": null,
   "metadata": {},
   "outputs": [],
   "source": [
    "def binary_search(arr, x):\n",
    "    low = 0\n",
    "    high = len(arr) - 1\n",
    "    mid = 0\n",
    "\n",
    "    while low <= high:\n",
    "\n",
    "        mid = (high + low) // 2\n",
    "\n",
    "        val = costFunction2(arr[mid])\n",
    "        if val < x:\n",
    "            low = mid + 1\n",
    "\n",
    "        elif val > x:\n",
    "            high = mid - 1\n",
    "\n",
    "        else:\n",
    "            return mid\n",
    "\n",
    "    return mid"
   ]
  },
  {
   "cell_type": "code",
   "execution_count": null,
   "metadata": {},
   "outputs": [],
   "source": [
    "#besta röðun\n",
    "loc = binary_search(magns, 5)\n",
    "print('Besta röðun')\n",
    "print('Röðun: ', magns[loc])\n",
    "print('Hæsta gildi: ',costFunction2(magns[loc-1]))\n",
    "print('Heildarmagn: ',magns[loc].sum())\n",
    "print('Heildarmagn Vestur: ',magns[loc][0:6].sum())\n",
    "print('Heildarmagn Austur: ',magns[loc][6:12].sum())\n"
   ]
  },
  {
   "cell_type": "code",
   "execution_count": null,
   "metadata": {},
   "outputs": [],
   "source": [
    "# Skoðar hvernig besta röðun fæst\n",
    "fig = plt.figure()\n",
    "ax = plt.subplot(111)\n",
    "\n",
    "\n",
    "\n",
    "magnsDF = pd.DataFrame(list(map(np.ravel, magns)))\n",
    "magnsDF.columns = data['eldi']['Nafn']\n",
    "ax.plot(magnsDF, label = magnsDF.columns)\n",
    "\n",
    "# Shrink current axis by 20%\n",
    "box = ax.get_position()\n",
    "ax.set_position([box.x0, box.y0, box.width * 0.8, box.height])\n",
    "\n",
    "# Put a legend to the right of the current axis\n",
    "ax.legend(loc='center left', bbox_to_anchor=(1, 0.5))\n",
    "ax.axvline(loc)"
   ]
  },
  {
   "cell_type": "code",
   "execution_count": null,
   "metadata": {},
   "outputs": [],
   "source": [
    "magns"
   ]
  },
  {
   "cell_type": "code",
   "execution_count": 1,
   "metadata": {},
   "outputs": [
    {
     "name": "stdout",
     "output_type": "stream",
     "text": [
      "Estimated variance of the mean: 8.182432\n"
     ]
    }
   ],
   "source": [
    "import numpy as np\n",
    "\n",
    "# Given data\n",
    "data1 = np.array([\n",
    "    173.156, 81.074, 76.170, 68.000, 65.000, 60.528, 60.000, 54.134, 54.000, 52.743,\n",
    "    51.707, 50.090, 49.626, 49.468, 48.319, 47.043, 41.904, 38.638, 36.701, 35.385,\n",
    "    35.000, 30.667, 30.285, 30.000, 29.932, 26.673, 26.492, 24.800, 24.000, 23.238,\n",
    "    20.000, 19.824, 18.672, 18.012, 17.200, 15.887, 14.292, 13.611, 13.535, 13.500,\n",
    "    12.824, 11.510, 11.100, 10.766, 9.917, 9.352, 9.158, 8.976, 8.895, 8.830,\n",
    "    8.753, 8.661, 8.504, 8.421, 8.420, 8.000, 7.303, 6.969, 6.911, 6.531,\n",
    "    6.500, 6.248, 6.000, 6.000, 5.765, 5.764, 5.620, 5.248, 5.047, 5.000,\n",
    "    5.000, 4.825, 4.800, 4.688, 3.741, 3.644, 3.612, 3.570, 3.500, 3.500,\n",
    "    3.475, 3.174\n",
    "])\n",
    "\n",
    "# Number of bootstrap resamples\n",
    "n_resamples = 100000\n",
    "\n",
    "# Bootstrap resampling\n",
    "bootstrap_means = np.random.choice(data1, size=(n_resamples, len(data1)), replace=True).mean(axis=1)\n",
    "\n",
    "# Estimate variance of the mean\n",
    "variance_of_mean = np.var(bootstrap_means, ddof=1)\n",
    "\n",
    "print(f\"Estimated variance of the mean: {variance_of_mean:.6f}\")\n"
   ]
  },
  {
   "cell_type": "code",
   "execution_count": 22,
   "metadata": {},
   "outputs": [
    {
     "name": "stdout",
     "output_type": "stream",
     "text": [
      "BootstrapResult(confidence_interval=ConfidenceInterval(low=17.927688490160996, high=29.462927884403673), bootstrap_distribution=array([28.68241463, 29.39947561, 20.65754878, 22.54041463, 24.00241463,\n",
      "       25.91303659, 25.65371951, 24.203     , 25.47473171, 24.30434146,\n",
      "       22.25964634, 19.54063415, 23.77435366, 21.92541463, 18.52402439,\n",
      "       27.00814634, 27.56643902, 22.84076829, 22.95526829, 22.96342683,\n",
      "       29.90035366, 21.90086585, 27.75452439, 20.96919512, 26.33576829,\n",
      "       20.7102561 , 26.44317073, 25.09042683, 21.91987805, 24.63407317,\n",
      "       17.79369512, 25.65492683, 21.7112439 , 20.1977439 , 28.56437805,\n",
      "       23.1555122 , 24.27964634, 19.6057561 , 19.52815854, 27.79041463,\n",
      "       22.825     , 19.94996341, 22.98604878, 20.90164634, 22.2140122 ,\n",
      "       25.32190244, 23.26870732, 23.04384146, 24.72020732, 19.34480488,\n",
      "       15.71992683, 23.73762195, 22.37243902, 20.15576829, 29.18912195,\n",
      "       18.6025    , 29.93253659, 24.98491463, 23.54569512, 20.87213415,\n",
      "       27.59093902, 26.85357317, 24.58871951, 25.17726829, 27.17030488,\n",
      "       26.52008537, 23.87670732, 27.06843902, 26.00831707, 25.70039024,\n",
      "       27.02507317, 21.06432927, 26.54808537, 21.20723171, 19.76290244,\n",
      "       25.22123171, 21.37467073, 26.20578049, 25.13321951, 20.93396341,\n",
      "       24.20926829, 22.19960976, 23.61756098, 30.97526829, 25.31920732,\n",
      "       19.11337805, 23.60064634, 23.03347561, 27.42392683, 16.37085366,\n",
      "       27.36407317, 26.04186585, 21.49587805, 21.53342683, 23.13745122,\n",
      "       21.15009756, 26.9854878 , 25.13776829, 26.39318293, 24.4264878 ]), standard_error=3.1070399705953338)\n"
     ]
    },
    {
     "data": {
      "image/png": "[encoded data removed]",
      "text/plain": [
       "<Figure size 640x480 with 1 Axes>"
      ]
     },
     "metadata": {},
     "output_type": "display_data"
    }
   ],
   "source": [
    "import matplotlib.pyplot as plt\n",
    "from scipy.stats import bootstrap\n",
    "\n",
    "data = (data1,)  # samples must be in a sequence\n",
    "res = bootstrap(data, np.mean, n_resamples=100,confidence_level=0.95)\n",
    "print(res)\n",
    "fig, ax = plt.subplots()\n",
    "ax.hist(res.bootstrap_distribution, bins=25)\n",
    "ax.set_title('Bootstrap Distribution')\n",
    "ax.set_xlabel('statistic value')\n",
    "ax.set_ylabel('frequency')\n",
    "plt.show()"
   ]
  },
  {
   "cell_type": "code",
   "execution_count": 21,
   "metadata": {},
   "outputs": [
    {
     "name": "stdout",
     "output_type": "stream",
     "text": [
      "Meðaltal:  23.4353216902439\n",
      "Stddev: 2.843646895816467\n",
      "95% öryggi:  ConfidenceInterval(low=18.8806768438082, high=30.418625866918557)\n"
     ]
    }
   ],
   "source": [
    "print('Meðaltal: ',res.bootstrap_distribution.mean())\n",
    "print('Stddev:' ,res.standard_error)\n",
    "print('95% öryggi: ',res.confidence_interval)"
   ]
  }
 ],
 "metadata": {
  "kernelspec": {
   "display_name": "Python 3",
   "language": "python",
   "name": "python3"
  },
  "language_info": {
   "codemirror_mode": {
    "name": "ipython",
    "version": 3
   },
   "file_extension": ".py",
   "mimetype": "text/x-python",
   "name": "python",
   "nbconvert_exporter": "python",
   "pygments_lexer": "ipython3",
   "version": "3.10.8"
  }
 },
 "nbformat": 4,
 "nbformat_minor": 2
}
